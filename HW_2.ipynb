{
  "nbformat": 4,
  "nbformat_minor": 0,
  "metadata": {
    "colab": {
      "name": "Untitled10.ipynb",
      "version": "0.3.2",
      "provenance": [],
      "include_colab_link": true
    },
    "kernelspec": {
      "name": "python3",
      "display_name": "Python 3"
    }
  },
  "cells": [
    {
      "cell_type": "markdown",
      "metadata": {
        "id": "view-in-github",
        "colab_type": "text"
      },
      "source": [
        "<a href=\"https://colab.research.google.com/github/WAHEEBTASHAN/-Olasilik-HW-2/blob/master/HW_2.ipynb\" target=\"_parent\"><img src=\"https://colab.research.google.com/assets/colab-badge.svg\" alt=\"Open In Colab\"/></a>"
      ]
    },
    {
      "metadata": {
        "id": "no7bUdW6Kxw-",
        "colab_type": "text"
      },
      "cell_type": "markdown",
      "source": [
        ""
      ]
    },
    {
      "metadata": {
        "id": "wHTDuNkCK0FC",
        "colab_type": "text"
      },
      "cell_type": "markdown",
      "source": [
        "##permutation and combination  \n",
        "In this home work i am going to present an overview  between permutation and combination  as well as  enlighten some  differences  between them with solved  examples\n",
        "\n",
        "![alt text](https://github.com/WAHEEBTASHAN/-Olasilik-HW-2/raw/master/Permutation%20and%20compination.JPG)\n",
        "##1- permutation\n",
        " It is the different arrangements of a given number of elements taken into a sequence For example, if we have two letter A and B, then there are two possible arrangements, AB and BA.\n",
        "As we can see from the permutation equation number (1), number of permutations when ‘r’ elements are arranged out of a total of ‘n’ elements will  be n!/(n-x)!     \n",
        "nPx = n!/(n-x)!     .............................(1)\n",
        "\n",
        "###In permutation  order matters\n",
        "## Example :\n",
        "\n",
        "## Q1)  We have 8 numbers from 1 to 8  ,how many possible numbers can be arranged using permutation with sets of 3 ?\n",
        "In my  solved example  the total n=8, and x =3.The length of the set is 3. the arrangements and the total permutations have been presented in python  results \n",
        "nPx = n!/((n-x)!)= 8P3 = 8!/((8-3)!)  =  (8*7*6*5!)/5!= 336  so the number of permutations are** 336**\n",
        "The number of  permutations will change as long as we change the values of n and x based on the permutation equation\n",
        "##2- Combination\n",
        "Combination is a selection of items from a collection, such that the order of selection does not matter. For example, if we have two elements A and B, then there is only one way select two items, we select both of them.\n",
        "\n",
        "### In combination  order matters\n",
        "\n",
        "=C(n,x)= n!/(n-x)!*x!       .......................(2)\n",
        "##Example :\n",
        "## Q2)  We have  8 numbers from 1 to 8  ,how many possible numbers we have  using combination  with sets of 3?\n",
        "I am going to use the same question used for permutation but in this case combination will be used\n",
        "In this example  the total n=8, and x =3. Using the combination equation to verify the python result \n",
        "C(n,x)= n!/((n-x)!*x!      )  =(8¦3)=C(8,3)= 8!/((8-3)!*3!      )= 8!/(5!*3!      )=(8*7*6*5!)/(   5!*3*2*1      )=56\n",
        "so the number of permutations are **56**\n",
        "As we can see the number of combination is less because in  combination the  order  does matters (e.g we have (1 2 3) and (3 2 1)in permutation because order does not matted  but in combination we have (1 2 3) but we do not have (3 2 1) because order does matted  \n",
        "\n",
        "\n",
        "\n",
        "\n"
      ]
    },
    {
      "metadata": {
        "id": "rN9LqRZUMbCJ",
        "colab_type": "code",
        "colab": {}
      },
      "cell_type": "code",
      "source": [
        "# Solving permutation example(Q1)\n",
        "import itertools\n",
        "my_list=(1,2,3,4,5,6,7,8)# n=8\n",
        "permutations=itertools.permutations(my_list,3) # x=3. the length of permutation set is 3. the number of\n",
        "# permutation will change as long as we change the values of n and x\n",
        "count_permutations=[]\n",
        "for i in permutations:\n",
        "  count_permutations.append(i)\n",
        "  print(count_permutations.index(i)+1,i)# count_permutations.index(i) it gives the count sequence number on the left\n",
        "  #of the permutation sets\n",
        "print('the number of permutations are',len(count_permutations))"
      ],
      "execution_count": 0,
      "outputs": []
    },
    {
      "metadata": {
        "id": "tvEgkcSbMofR",
        "colab_type": "code",
        "colab": {}
      },
      "cell_type": "code",
      "source": [
        "# Solving combinattion example (Q2)\n",
        "import itertools\n",
        "my_list=(1,2,3,4,5,6,7,8)\n",
        "combinations=itertools.combinations(my_list,3)\n",
        "count_combinations=[]\n",
        "for i in combinations:\n",
        "  count_combinations.append(i)\n",
        "  print(count_combinations.index(i)+1,i)\n",
        "print('the number is',len(count_combinations))"
      ],
      "execution_count": 0,
      "outputs": []
    }
  ]
}